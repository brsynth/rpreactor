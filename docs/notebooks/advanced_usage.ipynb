{
 "cells": [
  {
   "cell_type": "code",
   "execution_count": 1,
   "metadata": {
    "nbsphinx": "hidden"
   },
   "outputs": [],
   "source": [
    "%load_ext autoreload\n",
    "%autoreload 2"
   ]
  },
  {
   "cell_type": "code",
   "execution_count": 2,
   "metadata": {
    "nbsphinx": "hidden"
   },
   "outputs": [
    {
     "data": {
      "text/plain": [
       "'0.0.12+61.g12dad48.dirty'"
      ]
     },
     "execution_count": 2,
     "metadata": {},
     "output_type": "execute_result"
    }
   ],
   "source": [
    "import rpreactor\n",
    "\n",
    "rpreactor.__version__"
   ]
  },
  {
   "cell_type": "code",
   "execution_count": 3,
   "metadata": {},
   "outputs": [],
   "source": [
    "import logging\n",
    "\n",
    "logging.basicConfig(level=logging.INFO)"
   ]
  },
  {
   "cell_type": "markdown",
   "metadata": {},
   "source": [
    "# Advanced library usage"
   ]
  },
  {
   "cell_type": "markdown",
   "metadata": {},
   "source": [
    "## Parallelization\n",
    "\n",
    "You can use several cores to parallelize the tasks. However, note that current implementation is not ideal as it shows little gain in performance:"
   ]
  },
  {
   "cell_type": "code",
   "execution_count": 4,
   "metadata": {},
   "outputs": [
    {
     "name": "stderr",
     "output_type": "stream",
     "text": [
      "INFO:rpreactor.rule.burner:Connected to a database with 229862 rules, 12490 molecules, and 666144 results (at 'rr02_hs.sqlite3').\n"
     ]
    },
    {
     "data": {
      "text/plain": [
       "21383"
      ]
     },
     "execution_count": 4,
     "metadata": {},
     "output_type": "execute_result"
    }
   ],
   "source": [
    "path_sqlite = \"rr02_hs.sqlite3\"\n",
    "o = rpreactor.RuleBurner(db_path=path_sqlite, with_hs=True)\n",
    "\n",
    "rules_d16 = [x[0] for x in o.db.execute(\"select id from rules where diameter=16 and direction<=0;\")]\n",
    "random_cid = o.chemicals[42]\n",
    "\n",
    "tasks = [(rule, random_cid) for rule in rules_d16]\n",
    "len(tasks)"
   ]
  },
  {
   "cell_type": "code",
   "execution_count": 5,
   "metadata": {},
   "outputs": [
    {
     "name": "stdout",
     "output_type": "stream",
     "text": [
      "1min 33s ± 3.6 s per loop (mean ± std. dev. of 7 runs, 1 loop each)\n"
     ]
    }
   ],
   "source": [
    "%%timeit\n",
    "results = [x for x in o.compute(tasks, max_workers=1)]"
   ]
  },
  {
   "cell_type": "code",
   "execution_count": 6,
   "metadata": {},
   "outputs": [
    {
     "name": "stdout",
     "output_type": "stream",
     "text": [
      "1min 22s ± 1.03 s per loop (mean ± std. dev. of 7 runs, 1 loop each)\n"
     ]
    }
   ],
   "source": [
    "%%timeit\n",
    "results = [x for x in o.compute(tasks, max_workers=2)]"
   ]
  },
  {
   "cell_type": "markdown",
   "metadata": {},
   "source": [
    "## Direct database access\n",
    "\n",
    "It can be useful to get a direct access to the database to select exactly the rules or chemicals you want to use. It is especially true if you use a database created from RetroRules."
   ]
  },
  {
   "cell_type": "code",
   "execution_count": 7,
   "metadata": {},
   "outputs": [
    {
     "name": "stderr",
     "output_type": "stream",
     "text": [
      "INFO:rpreactor.rule.burner:Connected to a database with 229862 rules, 12490 molecules, and 666144 results (at 'TMP_retrorules.sqlite3').\n"
     ]
    }
   ],
   "source": [
    "o = rpreactor.RuleBurner(db_path=\"TMP_retrorules.sqlite3\", with_hs=True)"
   ]
  },
  {
   "cell_type": "markdown",
   "metadata": {},
   "source": [
    "For instance, you may want to use all rules at diameter 16 that will work in retrosynthesis direction for a specific metabolite:"
   ]
  },
  {
   "cell_type": "code",
   "execution_count": 8,
   "metadata": {},
   "outputs": [
    {
     "name": "stdout",
     "output_type": "stream",
     "text": [
      "CPU times: user 359 ms, sys: 160 ms, total: 519 ms\n",
      "Wall time: 2.3 s\n"
     ]
    },
    {
     "data": {
      "text/plain": [
       "(21383,\n",
       " ['RR-02-af0959d1f4e9074d-16-F',\n",
       "  'RR-02-75375bb3424a861f-16-F',\n",
       "  'RR-02-3e613992ccfd1c0f-16-F',\n",
       "  'RR-02-210fceec930d03aa-16-F',\n",
       "  'RR-02-b4f23bc9461cf0f0-16-F',\n",
       "  'RR-02-fc330d4fc04b3185-16-F',\n",
       "  'RR-02-c8945a455022671f-16-F',\n",
       "  'RR-02-1c7541df150fe56f-16-F',\n",
       "  'RR-02-d58ff68a8484ba3f-16-F',\n",
       "  'RR-02-c37e2f958d671813-16-F'])"
      ]
     },
     "execution_count": 8,
     "metadata": {},
     "output_type": "execute_result"
    }
   ],
   "source": [
    "%%time\n",
    "rules_d16 = [x[0] for x in o.db.execute(\"select id from rules where diameter=16 and direction<=0;\")]\n",
    "len(rules_d16), rules_d16[:10]"
   ]
  },
  {
   "cell_type": "code",
   "execution_count": 9,
   "metadata": {},
   "outputs": [
    {
     "name": "stdout",
     "output_type": "stream",
     "text": [
      "CPU times: user 28.9 s, sys: 8.67 s, total: 37.5 s\n",
      "Wall time: 1min 24s\n"
     ]
    },
    {
     "data": {
      "text/plain": [
       "10"
      ]
     },
     "execution_count": 9,
     "metadata": {},
     "output_type": "execute_result"
    }
   ],
   "source": [
    "%%time\n",
    "random_cid = o.chemicals[42]\n",
    "\n",
    "tasks = [(rule, random_cid) for rule in rules_d16]\n",
    "\n",
    "results = [x for x in o.compute(tasks)]\n",
    "len(results)"
   ]
  },
  {
   "cell_type": "markdown",
   "metadata": {},
   "source": [
    "Another common query is to get all products that are at one reaction-step from a specific chemical, without using any promiscuity hypothesis:"
   ]
  },
  {
   "cell_type": "code",
   "execution_count": 10,
   "metadata": {},
   "outputs": [
    {
     "name": "stdout",
     "output_type": "stream",
     "text": [
      "CPU times: user 9.67 ms, sys: 2.72 ms, total: 12.4 ms\n",
      "Wall time: 44.7 ms\n"
     ]
    },
    {
     "data": {
      "text/plain": [
       "{'ISWSIDIOOBJBQZ-UHFFFAOYSA-N',\n",
       " 'JUIXSAKXHQVSIM-UHFFFAOYSA-N',\n",
       " 'XLYOFNOQVPJJNP-UHFFFAOYSA-N',\n",
       " 'YDRSQRPHLBEPTP-UHFFFAOYSA-N'}"
      ]
     },
     "execution_count": 10,
     "metadata": {},
     "output_type": "execute_result"
    }
   ],
   "source": [
    "%%time\n",
    "chemical_id = 'MNXM1651'\n",
    "rules = [x[0] for x in o.db.execute(\"select distinct rid from results where pgroup<0 and sid=?;\", (chemical_id,))]\n",
    "\n",
    "tasks = [(rule, chemical_id) for rule in rules]\n",
    "results = [x for x in o.compute(tasks)]\n",
    "\n",
    "# Distinct products at one reaction step from the chemical id, without promiscuity\n",
    "distinct_products = set()\n",
    "for x in results:\n",
    "    for y in x['product_inchikeys']:\n",
    "        for z in y:\n",
    "            distinct_products.add(z)\n",
    "distinct_products"
   ]
  },
  {
   "cell_type": "markdown",
   "metadata": {},
   "source": [
    "Note that if you do not use the promiscuity hypothesis, you actually do not need to use the compute method and can retrieve results directly from the database using an SQL query:"
   ]
  },
  {
   "cell_type": "code",
   "execution_count": 11,
   "metadata": {},
   "outputs": [
    {
     "name": "stdout",
     "output_type": "stream",
     "text": [
      "CPU times: user 799 µs, sys: 227 µs, total: 1.03 ms\n",
      "Wall time: 2.12 ms\n"
     ]
    },
    {
     "data": {
      "text/plain": [
       "['XLYOFNOQVPJJNP-UHFFFAOYSA-N',\n",
       " 'ISWSIDIOOBJBQZ-UHFFFAOYSA-N',\n",
       " 'JUIXSAKXHQVSIM-UHFFFAOYSA-N',\n",
       " 'YDRSQRPHLBEPTP-UHFFFAOYSA-N']"
      ]
     },
     "execution_count": 11,
     "metadata": {},
     "output_type": "execute_result"
    }
   ],
   "source": [
    "%%time\n",
    "chemical_id = 'MNXM1651'\n",
    "\n",
    "ans = []\n",
    "for row in o.db.execute(\"select distinct inchikey from results join molecules on pid=id where pgroup<0 and sid=?\", (chemical_id,)):\n",
    "    ans.append(row[0])\n",
    "ans"
   ]
  },
  {
   "cell_type": "markdown",
   "metadata": {},
   "source": [
    "\n",
    "\n",
    "Remember that identifiers are assumed by rpreactor to refer to distinct compounds, thus the queries above will search for known reactions that uses the specified identifier. Importantly, it will not retrieve all the reactions known to use the associated chemical structure. You can acheive the latter by querying the InChI first and then use them to make the query:\n"
   ]
  },
  {
   "cell_type": "code",
   "execution_count": 12,
   "metadata": {},
   "outputs": [
    {
     "name": "stdout",
     "output_type": "stream",
     "text": [
      "['MNXM99', 'InChI=1S/C6H12O6/c7-1-2-3(8)4(9)5(10)6(11)12-2/h2-11H,1H2']\n",
      "['MNXM41', 'InChI=1S/C6H12O6/c7-1-2-3(8)4(9)5(10)6(11)12-2/h2-11H,1H2']\n",
      "['MNXM182', 'InChI=1S/C6H12O6/c7-1-2-3(8)4(9)5(10)6(11)12-2/h2-11H,1H2']\n",
      "['MNXM390', 'InChI=1S/C6H12O6/c7-1-2-3(8)4(9)5(10)6(11)12-2/h2-11H,1H2']\n",
      "['MNXM105', 'InChI=1S/C6H12O6/c7-1-2-3(8)4(9)5(10)6(11)12-2/h2-11H,1H2']\n",
      "['MNXM4637', 'InChI=1S/C6H12O6/c7-1-2-3(8)4(9)5(10)6(11)12-2/h2-11H,1H2']\n",
      "['MNXM146261', 'InChI=1S/C6H12O6/c7-1-2-3(8)4(9)5(10)6(11)12-2/h2-11H,1H2']\n",
      "['MNXM919', 'InChI=1S/C6H12O6/c7-1-2-3(8)4(9)5(10)6(11)12-2/h2-11H,1H2']\n",
      "['MNXM1919', 'InChI=1S/C6H12O6/c7-1-2-3(8)4(9)5(10)6(11)12-2/h2-11H,1H2']\n",
      "['MNXM18905', 'InChI=1S/C6H12O6/c7-1-2-3(8)4(9)5(10)6(11)12-2/h2-11H,1H2']\n",
      "['MNXM7967', 'InChI=1S/C6H12O6/c7-1-2-3(8)4(9)5(10)6(11)12-2/h2-11H,1H2']\n",
      "['MNXM48621', 'InChI=1S/C6H12O6/c7-1-2-3(8)4(9)5(10)6(11)12-2/h2-11H,1H2']\n",
      "['MNXM48393', 'InChI=1S/C6H12O6/c7-1-2-3(8)4(9)5(10)6(11)12-2/h2-11H,1H2']\n",
      "['MNXM7114', 'InChI=1S/C6H12O6/c7-1-2-3(8)4(9)5(10)6(11)12-2/h2-11H,1H2']\n",
      "['MNXM112', 'InChI=1S/C6H12O6/c7-1-2-3(8)4(9)5(10)6(11)12-2/h2-11H,1H2']\n",
      "['MNXM722792', 'InChI=1S/C6H12O6/c7-1-2-3(8)4(9)5(10)6(11)12-2/h2-11H,1H2']\n",
      "['MNXM12054', 'InChI=1S/C6H12O6/c7-1-2-3(8)4(9)5(10)6(11)12-2/h2-11H,1H2']\n"
     ]
    }
   ],
   "source": [
    "chemical_id = 'MNXM99'\n",
    "for row in o.db.execute(\"select id, inchi from molecules where inchi=(select inchi from molecules where id=?)\", (chemical_id,)):\n",
    "    print(list(row))"
   ]
  },
  {
   "cell_type": "code",
   "execution_count": 13,
   "metadata": {},
   "outputs": [
    {
     "data": {
      "text/plain": [
       "['PVXPPJIGRGXGCY-UHFFFAOYSA-N',\n",
       " 'CZMRCDWAGMRECN-UHFFFAOYSA-N',\n",
       " 'ZFGVMMVMFNPHAQ-UHFFFAOYSA-N',\n",
       " 'XLYOFNOQVPJJNP-UHFFFAOYSA-N',\n",
       " 'IFBHRQDFSNCLOZ-UHFFFAOYSA-N',\n",
       " 'LUEWUZLMQUOBSB-UHFFFAOYSA-N',\n",
       " 'OITCGTKWORAONZ-UHFFFAOYSA-N',\n",
       " 'HDTRYLNUVZCQOY-UHFFFAOYSA-N',\n",
       " 'MUIAGSYGABVSAA-UHFFFAOYSA-N',\n",
       " 'DJMVHSOAUQHPSN-UHFFFAOYSA-N',\n",
       " 'RFSUNEUAIZKAJO-UHFFFAOYSA-N',\n",
       " 'RULSWEULPANCDV-UHFFFAOYSA-N',\n",
       " 'HXXFSFRBOHSIMQ-UHFFFAOYSA-N',\n",
       " 'NBSCHQHZLSJFNQ-UHFFFAOYSA-N',\n",
       " 'XTWYTFMLZFPYCI-UHFFFAOYSA-N',\n",
       " 'UDMBCSSLTHHNCD-UHFFFAOYSA-N',\n",
       " 'FJCUPROCOFFUSR-UHFFFAOYSA-N',\n",
       " 'YGMBQDCBGPAZNW-UHFFFAOYSA-N',\n",
       " 'FYGDTMLNYKFZSV-UHFFFAOYSA-N',\n",
       " 'QIGJYVCQYDKYDW-UHFFFAOYSA-N',\n",
       " 'RXVWSYJTUUKTEA-UHFFFAOYSA-N',\n",
       " 'BNABBHGYYMZMOA-UHFFFAOYSA-N',\n",
       " 'NBIIXXVUZAFLBC-UHFFFAOYSA-N',\n",
       " 'FTNIPWXXIGNQQF-UHFFFAOYSA-N',\n",
       " 'DLRVVLDZNNYCBX-UHFFFAOYSA-N',\n",
       " 'FBPFZTCFMRRESA-UHFFFAOYSA-N',\n",
       " 'XCCTYIAWTASOJW-UHFFFAOYSA-N',\n",
       " 'GUBGYTABKSRVRQ-UHFFFAOYSA-N',\n",
       " 'ZCLAHGAZPPEVDX-UHFFFAOYSA-N',\n",
       " 'BJHIKXHVCXFQLS-UHFFFAOYSA-N',\n",
       " 'PZDOWFGHCNHPQD-UHFFFAOYSA-N',\n",
       " 'FZWBNHMXJMCXLU-UHFFFAOYSA-N',\n",
       " 'ZHZITDGOAFCURV-UHFFFAOYSA-N',\n",
       " 'OCIBBXPLUVYKCH-UHFFFAOYSA-N']"
      ]
     },
     "execution_count": 13,
     "metadata": {},
     "output_type": "execute_result"
    }
   ],
   "source": [
    "chemical_id = 'MNXM99'\n",
    "query = \"\"\"\n",
    "select distinct inchikey\n",
    "from results\n",
    "join molecules on pid=id\n",
    "where pgroup<0 and sid=(\n",
    "    select distinct id\n",
    "    from molecules\n",
    "    where id=?)\n",
    "\"\"\"\n",
    "\n",
    "ans = []\n",
    "for row in o.db.execute(query, (chemical_id,)):\n",
    "    ans.append(row[0])\n",
    "ans  # Distinct products at one reaction step from the chemical structure, without promiscuity"
   ]
  },
  {
   "cell_type": "markdown",
   "metadata": {},
   "source": [
    "\n",
    "\n",
    "This behavior is expected and due to the strategy used to sanitize/standardize the chemicals.\n"
   ]
  }
 ],
 "metadata": {
  "kernelspec": {
   "display_name": "Python 3",
   "language": "python",
   "name": "python3"
  },
  "language_info": {
   "codemirror_mode": {
    "name": "ipython",
    "version": 3
   },
   "file_extension": ".py",
   "mimetype": "text/x-python",
   "name": "python",
   "nbconvert_exporter": "python",
   "pygments_lexer": "ipython3",
   "version": "3.8.8"
  }
 },
 "nbformat": 4,
 "nbformat_minor": 4
}
