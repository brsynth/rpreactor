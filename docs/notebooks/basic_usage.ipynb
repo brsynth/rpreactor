{
 "cells": [
  {
   "cell_type": "code",
   "execution_count": 1,
   "metadata": {
    "nbsphinx": "hidden"
   },
   "outputs": [],
   "source": [
    "%load_ext autoreload\n",
    "%autoreload 2"
   ]
  },
  {
   "cell_type": "code",
   "execution_count": 2,
   "metadata": {
    "nbsphinx": "hidden"
   },
   "outputs": [
    {
     "data": {
      "text/plain": [
       "'0.0.12+61.g12dad48.dirty'"
      ]
     },
     "execution_count": 2,
     "metadata": {},
     "output_type": "execute_result"
    }
   ],
   "source": [
    "import rpreactor\n",
    "\n",
    "rpreactor.__version__"
   ]
  },
  {
   "cell_type": "markdown",
   "metadata": {},
   "source": [
    "# Basic library usage"
   ]
  },
  {
   "cell_type": "markdown",
   "metadata": {},
   "source": [
    "## Rules and chemicals: load and store"
   ]
  },
  {
   "cell_type": "markdown",
   "metadata": {},
   "source": [
    "`rpreactor` uses a file database (SQLite3) to store:\n",
    "\n",
    "* reaction rules\n",
    "* and molecules\n",
    "\n",
    "This has the advantage to be faster that plain text, more memory-efficient than always loading everything in-memory, and more lightweight than using a all-included relational database.\n",
    "You should be able to use rpreactor on rather large datasets."
   ]
  },
  {
   "cell_type": "markdown",
   "metadata": {},
   "source": [
    "For the examples below, we will create simple databases with one rule and one metabolite defined as:"
   ]
  },
  {
   "cell_type": "code",
   "execution_count": 3,
   "metadata": {},
   "outputs": [],
   "source": [
    "inchi = \"InChI=1S/C12H22O11/c13-1-3-5(15)6(16)9(19)12(22-3)23-10-4(2-14)21-11(20)8(18)7(10)17/h3-20H,1-2H2/t3-,4-,5+,6+,7-,8-,9-,10-,11?,12+/m1/s1\"\n",
    "rsmarts = \"([#6@@&v4:1]1(-[#8&v2:2]-[#1&v1:3])(-[#1&v1:4])-[#6@&v4:5](-[#8&v2:6]-[#1&v1:7])(-[#1&v1:8])-[#6@&v4:9](-[#8&v2:10]-[#1&v1:11])(-[#1&v1:12])-[#6@&v4:13](-[#6&v4:14](-[#8&v2:15]-[#1&v1:16])(-[#1&v1:17])-[#1&v1:18])(-[#1&v1:19])-[#8&v2:20]-[#6@&v4:21]-1(-[#8&v2:22]-[#6@@&v4:23]1(-[#1&v1:24])-[#6@@&v4:25](-[#8&v2:26]-[#1&v1:27])(-[#1&v1:28])-[#6@&v4:29](-[#8&v2:30]-[#1&v1:31])(-[#1&v1:32])-[#6&v4:33](-[#8&v2:34]-[#1&v1:35])(-[#1&v1:36])-[#8&v2:37]-[#6@@&v4:38]-1(-[#6&v4:39](-[#8&v2:40]-[#1&v1:41])(-[#1&v1:42])-[#1&v1:43])-[#1&v1:44])-[#1&v1:45])>>([#6@@&v4:1]1(-[#8&v2:2]-[#1&v1:3])(-[#1&v1:4])-[#6@&v4:5](-[#8&v2:6]-[#1&v1:7])(-[#1&v1:8])-[#6@&v4:9](-[#8&v2:10]-[#1&v1:11])(-[#1&v1:12])-[#6@&v4:13](-[#6&v4:14](-[#8&v2:15]-[#1&v1:16])(-[#1&v1:17])-[#1&v1:18])(-[#1&v1:19])-[#8&v2:20]-[#6@&v4:21]-1(-[#8&v2:22]-[#1&v1])-[#1&v1:45].[#6@@&v4:29]1(-[#8&v2:30]-[#1&v1:31])(-[#1&v1:32])-[#6@&v4:25](-[#8&v2:26]-[#1&v1:27])(-[#1&v1:28])-[#6@@&v4:23](-[#8&v2]-[#1&v1])(-[#1&v1:24])-[#6@&v4:38](-[#6&v4:39](-[#8&v2:40]-[#1&v1:41])(-[#1&v1:42])-[#1&v1:43])(-[#1&v1:44])-[#8&v2:37]-[#6&v4:33]-1(-[#8&v2:34]-[#1&v1:35])-[#1&v1:36])\""
   ]
  },
  {
   "cell_type": "markdown",
   "metadata": {},
   "source": [
    "### Using a throw-away in-memory database"
   ]
  },
  {
   "cell_type": "code",
   "execution_count": 4,
   "metadata": {},
   "outputs": [
    {
     "data": {
      "text/plain": [
       "[{'rule_id': '0',\n",
       "  'substrate_id': '0',\n",
       "  'product_list': [[<rdkit.Chem.rdchem.Mol at 0x7ff378e8b1d0>,\n",
       "    <rdkit.Chem.rdchem.Mol at 0x7ff378e8b180>]],\n",
       "  'product_inchikeys': [['WQZGKKKJIJFFOK-UHFFFAOYSA-N',\n",
       "    'WQZGKKKJIJFFOK-UHFFFAOYSA-N']],\n",
       "  'product_inchis': [['InChI=1S/C6H12O6/c7-1-2-3(8)4(9)5(10)6(11)12-2/h2-11H,1H2',\n",
       "    'InChI=1S/C6H12O6/c7-1-2-3(8)4(9)5(10)6(11)12-2/h2-11H,1H2']],\n",
       "  'product_smiles': [['[H]OC([H])([H])C1([H])OC([H])(O[H])C([H])(O[H])C([H])(O[H])C1([H])O[H]',\n",
       "    '[H]OC([H])([H])C1([H])OC([H])(O[H])C([H])(O[H])C([H])(O[H])C1([H])O[H]']]}]"
      ]
     },
     "execution_count": 4,
     "metadata": {},
     "output_type": "execute_result"
    }
   ],
   "source": [
    "# Create the database\n",
    "o = rpreactor.RuleBurner(with_hs=True)\n",
    "\n",
    "# Populate it\n",
    "o.insert_inchi([inchi])\n",
    "o.insert_rsmarts([rsmarts])\n",
    "\n",
    "# Try all rules vs. all metabolites with rule_mol='*'\n",
    "results = [x for x in o.compute(rule_mol='*')]\n",
    "results"
   ]
  },
  {
   "cell_type": "markdown",
   "metadata": {},
   "source": [
    "That's all.\n",
    "\n",
    "Note that you may export the database as SQL with:"
   ]
  },
  {
   "cell_type": "code",
   "execution_count": 5,
   "metadata": {},
   "outputs": [
    {
     "name": "stdout",
     "output_type": "stream",
     "text": [
      "Help on method dump_to_sql in module rpreactor.rule.burner:\n",
      "\n",
      "dump_to_sql(path) method of rpreactor.rule.burner.RuleBurner instance\n",
      "    Dump the database as a SQL file.\n",
      "    \n",
      "    :param path: Path to the SQL file.\n",
      "    :type path: str\n",
      "\n"
     ]
    }
   ],
   "source": [
    "help(o.dump_to_sql)"
   ]
  },
  {
   "cell_type": "markdown",
   "metadata": {},
   "source": [
    "### About chemicals and rule identifiers\n",
    "\n",
    "Notice that in previous example we provided molecules and rules as simple list and that rpreactor automatically attributed a 0-based identifier to each molecule and rule registered in the database. As we will see later on, those identifiers will be used to pick specific rule/molecules.\n",
    "\n",
    "It is also possible to provide rules and molecules as Dict rather that List to choose a more user-friendly identifier:"
   ]
  },
  {
   "cell_type": "code",
   "execution_count": 6,
   "metadata": {},
   "outputs": [
    {
     "data": {
      "text/plain": [
       "[{'rule_id': 'rsmart1',\n",
       "  'substrate_id': 'inchi1',\n",
       "  'product_list': [[<rdkit.Chem.rdchem.Mol at 0x7ff378ef7a90>,\n",
       "    <rdkit.Chem.rdchem.Mol at 0x7ff378e8bdb0>]],\n",
       "  'product_inchikeys': [['WQZGKKKJIJFFOK-UHFFFAOYSA-N',\n",
       "    'WQZGKKKJIJFFOK-UHFFFAOYSA-N']],\n",
       "  'product_inchis': [['InChI=1S/C6H12O6/c7-1-2-3(8)4(9)5(10)6(11)12-2/h2-11H,1H2',\n",
       "    'InChI=1S/C6H12O6/c7-1-2-3(8)4(9)5(10)6(11)12-2/h2-11H,1H2']],\n",
       "  'product_smiles': [['[H]OC([H])([H])C1([H])OC([H])(O[H])C([H])(O[H])C([H])(O[H])C1([H])O[H]',\n",
       "    '[H]OC([H])([H])C1([H])OC([H])(O[H])C([H])(O[H])C([H])(O[H])C1([H])O[H]']]}]"
      ]
     },
     "execution_count": 6,
     "metadata": {},
     "output_type": "execute_result"
    }
   ],
   "source": [
    "o = rpreactor.RuleBurner(with_hs=True)\n",
    "\n",
    "o.insert_inchi({'inchi1': inchi})\n",
    "o.insert_rsmarts({'rsmart1': rsmarts})\n",
    "\n",
    "results = [x for x in o.compute(rule_mol='*')]\n",
    "results"
   ]
  },
  {
   "cell_type": "markdown",
   "metadata": {},
   "source": [
    "The list of chemicals and rules identifiers in use are always available using the eponym attribute of RuleBurner:"
   ]
  },
  {
   "cell_type": "code",
   "execution_count": 7,
   "metadata": {},
   "outputs": [
    {
     "data": {
      "text/plain": [
       "['rsmart1']"
      ]
     },
     "execution_count": 7,
     "metadata": {},
     "output_type": "execute_result"
    }
   ],
   "source": [
    "o.rules"
   ]
  },
  {
   "cell_type": "code",
   "execution_count": 8,
   "metadata": {},
   "outputs": [
    {
     "data": {
      "text/plain": [
       "['inchi1']"
      ]
     },
     "execution_count": 8,
     "metadata": {},
     "output_type": "execute_result"
    }
   ],
   "source": [
    "o.chemicals"
   ]
  },
  {
   "cell_type": "markdown",
   "metadata": {},
   "source": [
    "As we will see later on, it is useful to subselect some identifiers."
   ]
  },
  {
   "cell_type": "markdown",
   "metadata": {},
   "source": [
    "### Using a persitent file database (SQLite3)"
   ]
  },
  {
   "cell_type": "markdown",
   "metadata": {},
   "source": [
    "Create a file database in current directory:"
   ]
  },
  {
   "cell_type": "code",
   "execution_count": 9,
   "metadata": {},
   "outputs": [
    {
     "data": {
      "text/plain": [
       "[{'rule_id': '0',\n",
       "  'substrate_id': '0',\n",
       "  'product_list': [[<rdkit.Chem.rdchem.Mol at 0x7ff378eefd10>,\n",
       "    <rdkit.Chem.rdchem.Mol at 0x7ff378ef7450>]],\n",
       "  'product_inchikeys': [['WQZGKKKJIJFFOK-UHFFFAOYSA-N',\n",
       "    'WQZGKKKJIJFFOK-UHFFFAOYSA-N']],\n",
       "  'product_inchis': [['InChI=1S/C6H12O6/c7-1-2-3(8)4(9)5(10)6(11)12-2/h2-11H,1H2',\n",
       "    'InChI=1S/C6H12O6/c7-1-2-3(8)4(9)5(10)6(11)12-2/h2-11H,1H2']],\n",
       "  'product_smiles': [['[H]OC([H])([H])C1([H])OC([H])(O[H])C([H])(O[H])C([H])(O[H])C1([H])O[H]',\n",
       "    '[H]OC([H])([H])C1([H])OC([H])(O[H])C([H])(O[H])C([H])(O[H])C1([H])O[H]']]}]"
      ]
     },
     "execution_count": 9,
     "metadata": {},
     "output_type": "execute_result"
    }
   ],
   "source": [
    "o = rpreactor.RuleBurner(db_path=\"TMP_showcase.sqlite3\", with_hs=True)\n",
    "\n",
    "o.insert_inchi([inchi])\n",
    "o.insert_rsmarts([rsmarts])\n",
    "\n",
    "results = [x for x in o.compute(rule_mol='*')]\n",
    "results"
   ]
  },
  {
   "cell_type": "markdown",
   "metadata": {},
   "source": [
    "File database can be exchanged and loaded at a later date. Let's check that the database is persistent:"
   ]
  },
  {
   "cell_type": "code",
   "execution_count": 10,
   "metadata": {},
   "outputs": [
    {
     "data": {
      "text/plain": [
       "[{'rule_id': '0',\n",
       "  'substrate_id': '0',\n",
       "  'product_list': [[<rdkit.Chem.rdchem.Mol at 0x7ff378e8ba40>,\n",
       "    <rdkit.Chem.rdchem.Mol at 0x7ff378ef7a40>]],\n",
       "  'product_inchikeys': [['WQZGKKKJIJFFOK-UHFFFAOYSA-N',\n",
       "    'WQZGKKKJIJFFOK-UHFFFAOYSA-N']],\n",
       "  'product_inchis': [['InChI=1S/C6H12O6/c7-1-2-3(8)4(9)5(10)6(11)12-2/h2-11H,1H2',\n",
       "    'InChI=1S/C6H12O6/c7-1-2-3(8)4(9)5(10)6(11)12-2/h2-11H,1H2']],\n",
       "  'product_smiles': [['[H]OC([H])([H])C1([H])OC([H])(O[H])C([H])(O[H])C([H])(O[H])C1([H])O[H]',\n",
       "    '[H]OC([H])([H])C1([H])OC([H])(O[H])C([H])(O[H])C([H])(O[H])C1([H])O[H]']]}]"
      ]
     },
     "execution_count": 10,
     "metadata": {},
     "output_type": "execute_result"
    }
   ],
   "source": [
    "del o\n",
    "o = rpreactor.RuleBurner(db_path=\"TMP_showcase.sqlite3\", with_hs=True)\n",
    "results = [x for x in o.compute(rule_mol='*')]\n",
    "results"
   ]
  },
  {
   "cell_type": "markdown",
   "metadata": {},
   "source": [
    "Note that the RDKit objects are different (i.e. not allocated to the same memory address). This is because we instanciated a new object using the serialized data in the database."
   ]
  },
  {
   "cell_type": "markdown",
   "metadata": {},
   "source": [
    "(Clean up our workspace:)"
   ]
  },
  {
   "cell_type": "code",
   "execution_count": 11,
   "metadata": {},
   "outputs": [],
   "source": [
    "! rm TMP_showcase.sqlite3"
   ]
  },
  {
   "cell_type": "markdown",
   "metadata": {},
   "source": [
    "### Create a database with all rules from RetroRules\n",
    "\n",
    "A pregenerated set of reaction rules can be download from [RetroRules](https://retrorules.org). It contains information of all known enzymatic reactions from MetaNetX v3.0. `rpreactor` can load those reaction rules."
   ]
  },
  {
   "cell_type": "markdown",
   "metadata": {},
   "source": [
    "We will use a dedicated method to translate a RetroRules dataset into a rpreactor database:"
   ]
  },
  {
   "cell_type": "code",
   "execution_count": 12,
   "metadata": {},
   "outputs": [
    {
     "name": "stdout",
     "output_type": "stream",
     "text": [
      "Help on function create_db_from_retrorules in module rpreactor.rule.utils:\n",
      "\n",
      "create_db_from_retrorules(path_retrosmarts_tsv, db_path, with_hs=False, with_stereo=False, version='v1.0')\n",
      "    Convert a RetroRules dataset to a rpreactor-ready sqlite3 database.\n",
      "    \n",
      "    All rules and all molecules will be extracted from the TSV file and imported into the database.\n",
      "    For more information on RetroRules, see https://retrorules.org/.\n",
      "\n"
     ]
    }
   ],
   "source": [
    "help(rpreactor.create_db_from_retrorules)"
   ]
  },
  {
   "cell_type": "markdown",
   "metadata": {},
   "source": [
    "Of course, you will need to first get yourself a version of RetroRules."
   ]
  },
  {
   "cell_type": "code",
   "execution_count": 13,
   "metadata": {},
   "outputs": [],
   "source": [
    "path = \"retrorules_rr02_rp3_hs/retrorules_rr02_flat_all.tsv\""
   ]
  },
  {
   "cell_type": "code",
   "execution_count": 14,
   "metadata": {
    "scrolled": true
   },
   "outputs": [
    {
     "name": "stdout",
     "output_type": "stream",
     "text": [
      "rm: cannot remove 'TMP_retrorules.sqlite3': No such file or directory\n",
      "CPU times: user 7min 8s, sys: 38.7 s, total: 7min 46s\n",
      "Wall time: 16min 56s\n"
     ]
    }
   ],
   "source": [
    "%%time\n",
    "! rm TMP_retrorules.sqlite3\n",
    "rpreactor.create_db_from_retrorules(path_retrosmarts_tsv=path, db_path=\"TMP_retrorules.sqlite3\", with_hs=True)"
   ]
  },
  {
   "cell_type": "markdown",
   "metadata": {},
   "source": [
    "One of the advantages of using RetroRules is that it comes with preconfigured rules and results:"
   ]
  },
  {
   "cell_type": "code",
   "execution_count": 15,
   "metadata": {},
   "outputs": [],
   "source": [
    "o = rpreactor.RuleBurner(db_path=\"TMP_retrorules.sqlite3\", with_hs=True)"
   ]
  },
  {
   "cell_type": "markdown",
   "metadata": {},
   "source": [
    "Here is the number of unique rules at each diameter:"
   ]
  },
  {
   "cell_type": "code",
   "execution_count": 16,
   "metadata": {},
   "outputs": [
    {
     "name": "stdout",
     "output_type": "stream",
     "text": [
      "Found 19043 rules at diameter 2\n",
      "Found 24806 rules at diameter 4\n",
      "Found 28408 rules at diameter 6\n",
      "Found 30104 rules at diameter 8\n",
      "Found 31045 rules at diameter 10\n",
      "Found 31699 rules at diameter 12\n",
      "Found 32574 rules at diameter 16\n"
     ]
    }
   ],
   "source": [
    "import sqlite3\n",
    "\n",
    "for diameter in [2, 4, 6, 8, 10, 12, 16]:\n",
    "    ans = o.db.execute(\"select count(*) from rules where diameter=?;\", [diameter]).fetchone()\n",
    "    print(f\"Found {ans[0]} rules at diameter {diameter}\")"
   ]
  },
  {
   "cell_type": "markdown",
   "metadata": {},
   "source": [
    "## Apply reaction rules to metabolites\n",
    "\n",
    "We will re-use the reaction rules and the metabolites from the RetroRules database:"
   ]
  },
  {
   "cell_type": "code",
   "execution_count": 17,
   "metadata": {},
   "outputs": [],
   "source": [
    "o = rpreactor.RuleBurner(db_path=\"TMP_retrorules.sqlite3\", with_hs=True)"
   ]
  },
  {
   "cell_type": "code",
   "execution_count": 18,
   "metadata": {},
   "outputs": [
    {
     "name": "stdout",
     "output_type": "stream",
     "text": [
      "Help on function compute in module rpreactor.rule.burner:\n",
      "\n",
      "compute(self, rule_mol, commit=False, max_workers=1, timeout=60, chunk_size=1000)\n",
      "    Returns a generator over products predicted by applying rules on molecules.\n",
      "    \n",
      "    Important: rules and molecules must be inserted into the database beforehand and are referred to by their\n",
      "    identifier. We assume each identifier refer to distinct rules and molecules: several identifiers referring to\n",
      "    identical rules/molecules will be computed independently.\n",
      "    \n",
      "    :param rule_mol: Tasks to compute as in: [(<rule_id>, <mol_id>), ...]. If the magic argument \"*\" is provided,\n",
      "        will compute all rules against all metabolites (mainly useful for debug purpose).\n",
      "    :type rule_mol: list of tuple, or '*'\n",
      "    :param commit: If true, the results be commited to the `results` table for later retrieval. Default: False.\n",
      "    :type commit: bool\n",
      "    :param max_workers: Maximum number of cores to use simultaneously to compute the tasks. Default: 1.\n",
      "    :type max_workers: int\n",
      "    :param timeout: Maximum time allowed for a single rule to apply on a single molecule (in seconds). Default: 60.\n",
      "    :type timeout: float\n",
      "    :param chunk_size: The maximum chunk size of tasks to hold in-memory at once. Increasing this number will yield\n",
      "        better performacne but may saturate the memory. Default: 1000.\n",
      "    :type chunk_size: int\n",
      "    :return result: Dictionary (yield) providing result from one rule application\n",
      "\n"
     ]
    }
   ],
   "source": [
    "help(rpreactor.RuleBurner.compute)"
   ]
  },
  {
   "cell_type": "markdown",
   "metadata": {},
   "source": [
    "### Some rules vs. some metabolites\n",
    "\n",
    "So far, we used `rule_mol='*'` to specify that we wanted to compute all rules against all metabolites. This can be rather expensive on large dataset; thus it is better to specify which rules we want to apply on which molecule:"
   ]
  },
  {
   "cell_type": "code",
   "execution_count": 19,
   "metadata": {},
   "outputs": [
    {
     "data": {
      "text/plain": [
       "[{'rule_id': 'RR-02-0622b5154c1abb9a-02-F',\n",
       "  'substrate_id': 'MNXM102752',\n",
       "  'product_list': [[<rdkit.Chem.rdchem.Mol at 0x7ff35c7ee7c0>]],\n",
       "  'product_inchikeys': [['SZCBXWMUOPQSOX-UHFFFAOYSA-N']],\n",
       "  'product_inchis': [['InChI=1S/C40H56O4/c1-29(17-13-19-31(3)21-23-39-35(5,6)25-33(41)27-37(39,9)43-39)15-11-12-16-30(2)18-14-20-32(4)22-24-40-36(7,8)26-34(42)28-38(40,10)44-40/h11-24,33-34,41-42H,25-28H2,1-10H3']],\n",
       "  'product_smiles': [['[H]OC1([H])C([H])([H])C2(C([H])([H])[H])OC2(C([H])=C([H])C(=C([H])C([H])=C([H])C(=C([H])C([H])=C([H])C([H])=C(C([H])=C([H])C([H])=C(C([H])=C([H])C23OC2(C([H])([H])[H])C([H])([H])C([H])(O[H])C([H])([H])C3(C([H])([H])[H])C([H])([H])[H])C([H])([H])[H])C([H])([H])[H])C([H])([H])[H])C([H])([H])[H])C(C([H])([H])[H])(C([H])([H])[H])C1([H])[H]']]},\n",
       " {'rule_id': 'RR-02-84cfa33041e82595-02-F',\n",
       "  'substrate_id': 'MNXM8160',\n",
       "  'product_list': [[<rdkit.Chem.rdchem.Mol at 0x7ff39618bea0>]],\n",
       "  'product_inchikeys': [['MYMOFIZGZYHOMD-UHFFFAOYSA-N']],\n",
       "  'product_inchis': [['InChI=1S/O2/c1-2']],\n",
       "  'product_smiles': [['O=O']]},\n",
       " {'rule_id': 'RR-02-b93f1788ade7b1a8-02-F',\n",
       "  'substrate_id': 'MNXM8160',\n",
       "  'product_list': [[<rdkit.Chem.rdchem.Mol at 0x7ff361cf2d60>,\n",
       "    <rdkit.Chem.rdchem.Mol at 0x7ff361cf2770>],\n",
       "   [<rdkit.Chem.rdchem.Mol at 0x7ff361cf2360>,\n",
       "    <rdkit.Chem.rdchem.Mol at 0x7ff361cf2a40>],\n",
       "   [<rdkit.Chem.rdchem.Mol at 0x7ff361cf2900>,\n",
       "    <rdkit.Chem.rdchem.Mol at 0x7ff35c7ee130>]],\n",
       "  'product_inchikeys': [['QGXAEWUQPKUEQA-UHFFFAOYSA-N',\n",
       "    'HLZZDTVXNYNFKH-UHFFFAOYSA-N'],\n",
       "   ['GBLMMVFQENXAFZ-UHFFFAOYSA-N', 'COPQYWVOVBHGRI-UHFFFAOYSA-N'],\n",
       "   ['VYKLRWGPNUVKNC-UHFFFAOYSA-N', 'QXJSYJRWEUENRT-UHFFFAOYSA-N']],\n",
       "  'product_inchis': [['InChI=1S/C18H26O3/c1-13(7-6-8-14(2)19)9-10-18-16(3,4)11-15(20)12-17(18,5)21-18/h6-10,15,20H,11-12H2,1-5H3',\n",
       "    'InChI=1S/C9H10O2/c1-9(6-4-8-11)5-2-3-7-10/h2-8H,1H3'],\n",
       "   ['InChI=1S/C5H6O2/c1-5(7)3-2-4-6/h2-4H,1H3',\n",
       "    'InChI=1S/C22H30O3/c1-17(9-6-7-14-23)10-8-11-18(2)12-13-22-20(3,4)15-19(24)16-21(22,5)25-22/h6-14,19,24H,15-16H2,1-5H3'],\n",
       "   ['InChI=1S/C13H20O3/c1-9(14)5-6-13-11(2,3)7-10(15)8-12(13,4)16-13/h5-6,10,15H,7-8H2,1-4H3',\n",
       "    'InChI=1S/C14H16O2/c1-13(9-5-11-15)7-3-4-8-14(2)10-6-12-16/h3-12H,1-2H3']],\n",
       "  'product_smiles': [['[H]OC1([H])C([H])([H])C2(C([H])([H])[H])OC2(C([H])=C([H])C(=C([H])C([H])=C([H])C(=O)C([H])([H])[H])C([H])([H])[H])C(C([H])([H])[H])(C([H])([H])[H])C1([H])[H]',\n",
       "    '[H]C(=O)C([H])=C([H])C([H])=C(C([H])=C([H])C([H])=O)C([H])([H])[H]'],\n",
       "   ['[H]C(=O)C([H])=C([H])C(=O)C([H])([H])[H]',\n",
       "    '[H]OC1([H])C([H])([H])C2(C([H])([H])[H])OC2(C([H])=C([H])C(=C([H])C([H])=C([H])C(=C([H])C([H])=C([H])C([H])=O)C([H])([H])[H])C([H])([H])[H])C(C([H])([H])[H])(C([H])([H])[H])C1([H])[H]'],\n",
       "   ['[H]OC1([H])C([H])([H])C2(C([H])([H])[H])OC2(C([H])=C([H])C(=O)C([H])([H])[H])C(C([H])([H])[H])(C([H])([H])[H])C1([H])[H]',\n",
       "    '[H]C(=O)C([H])=C([H])C(=C([H])C([H])=C([H])C([H])=C(C([H])=C([H])C([H])=O)C([H])([H])[H])C([H])([H])[H]']]}]"
      ]
     },
     "execution_count": 19,
     "metadata": {},
     "output_type": "execute_result"
    }
   ],
   "source": [
    "rule_list = ['RR-02-0622b5154c1abb9a-02-F', 'RR-02-84cfa33041e82595-02-F', 'RR-02-b93f1788ade7b1a8-02-F']\n",
    "mol_list = ['MNXM102752', 'MNXM8160']\n",
    "\n",
    "tasks = [(rule, mol) for rule in rule_list for mol in mol_list]\n",
    "\n",
    "results = [x for x in o.compute(rule_mol=tasks)]\n",
    "results"
   ]
  },
  {
   "cell_type": "markdown",
   "metadata": {},
   "source": [
    "Following the same logic, you may want to apply lots of rules to some metabolites. The key here is to create a list of the reactions (or compounds) identifiers we want to use. You can use a direct access to the database to choose which rules you want to use or use some handy shortcuts exposed as properties of the RuleBurner object."
   ]
  },
  {
   "cell_type": "markdown",
   "metadata": {},
   "source": [
    "### Queries against all rules or all chemicals"
   ]
  },
  {
   "cell_type": "markdown",
   "metadata": {},
   "source": [
    "We provide rulesand chemicals properties to access the list of all currently used identifiers. It is handy to query all rules (or all chemicals) against one chemical (or rule).\n",
    "\n",
    "Be careful though, as this will be time consuming!"
   ]
  },
  {
   "cell_type": "code",
   "execution_count": 20,
   "metadata": {},
   "outputs": [
    {
     "data": {
      "text/plain": [
       "(229862, 12490)"
      ]
     },
     "execution_count": 20,
     "metadata": {},
     "output_type": "execute_result"
    }
   ],
   "source": [
    "len(o.rules), len(o.chemicals)"
   ]
  },
  {
   "cell_type": "code",
   "execution_count": 21,
   "metadata": {},
   "outputs": [
    {
     "data": {
      "text/plain": [
       "12490"
      ]
     },
     "execution_count": 21,
     "metadata": {},
     "output_type": "execute_result"
    }
   ],
   "source": [
    "tasks = [('RR-02-0622b5154c1abb9a-02-F', mol) for mol in o.chemicals]\n",
    "len(tasks)"
   ]
  },
  {
   "cell_type": "markdown",
   "metadata": {},
   "source": [
    "Moreover, as we have seen before, you can directly use rule_mol='*' to compute all rules against all chemicals."
   ]
  },
  {
   "cell_type": "markdown",
   "metadata": {},
   "source": [
    "### Informations about last execution"
   ]
  },
  {
   "cell_type": "markdown",
   "metadata": {},
   "source": [
    "We prefer to catch the errors that may occurs in a compute run and log them rather to propagate the Exceptions. This way, you should not loose your work if the last task of a long run goes wrong. You can always ask for a summary of last executed run:"
   ]
  },
  {
   "cell_type": "code",
   "execution_count": 22,
   "metadata": {},
   "outputs": [
    {
     "data": {
      "text/plain": [
       "{'database_rules_count': 229862,\n",
       " 'database_chemical_count': 12490,\n",
       " 'database_results_count': 666144,\n",
       " 'lastcompute_precomputed_count': 2,\n",
       " 'lastcompute_newlycomputed_count': 1,\n",
       " 'lastcompute_timeout_list': [],\n",
       " 'lastcompute_errors_list': []}"
      ]
     },
     "execution_count": 22,
     "metadata": {},
     "output_type": "execute_result"
    }
   ],
   "source": [
    "o.summary()"
   ]
  },
  {
   "cell_type": "markdown",
   "metadata": {},
   "source": [
    "This information is also available when you represent the RuleBurner object as a string:"
   ]
  },
  {
   "cell_type": "code",
   "execution_count": 23,
   "metadata": {},
   "outputs": [
    {
     "name": "stdout",
     "output_type": "stream",
     "text": [
      "Connected to a database with 229862 rules, 12490 compounds, and 666144 results (at 'TMP_retrorules.sqlite3'). Last compute call yield 3 results (2 precomputed, 1 new); 0 errors were caught (details in the logs), and 0 timeouts were hit.\n"
     ]
    }
   ],
   "source": [
    "print(o)"
   ]
  },
  {
   "cell_type": "markdown",
   "metadata": {},
   "source": [
    "Of course, you should always have a quick look at the logs if you truely want to investigate what happened."
   ]
  },
  {
   "cell_type": "markdown",
   "metadata": {},
   "source": [
    "### Reuse results for subsequent calls\n",
    "\n",
    "You may commit the results (i.e. the chemicals found after applying a rule to a chemical) to remember them the next time you will make the same query. This will greatly improve the time it takes to retrieve the results."
   ]
  },
  {
   "cell_type": "code",
   "execution_count": 25,
   "metadata": {},
   "outputs": [],
   "source": [
    "o = rpreactor.RuleBurner(with_hs=True)\n",
    "o.insert_inchi([inchi])\n",
    "o.insert_rsmarts([rsmarts])\n",
    "\n",
    "tasks = [(rid, cid) for rid in o.rules for cid in o.chemicals]"
   ]
  },
  {
   "cell_type": "markdown",
   "metadata": {},
   "source": [
    "Without using commit:"
   ]
  },
  {
   "cell_type": "code",
   "execution_count": 26,
   "metadata": {},
   "outputs": [
    {
     "name": "stdout",
     "output_type": "stream",
     "text": [
      "112 ms ± 1.05 ms per loop (mean ± std. dev. of 7 runs, 10 loops each)\n"
     ]
    }
   ],
   "source": [
    "%%timeit\n",
    "results = [x for x in o.compute(tasks, commit=False)]  # by default, commit=False"
   ]
  },
  {
   "cell_type": "markdown",
   "metadata": {},
   "source": [
    "Using commit, the first call should have pretty much the same cost, but subsequent calls should be much faster:"
   ]
  },
  {
   "cell_type": "code",
   "execution_count": 27,
   "metadata": {},
   "outputs": [
    {
     "name": "stdout",
     "output_type": "stream",
     "text": [
      "CPU times: user 2.65 ms, sys: 23.2 ms, total: 25.8 ms\n",
      "Wall time: 120 ms\n"
     ]
    }
   ],
   "source": [
    "%%time\n",
    "results = [x for x in o.compute(tasks, commit=True)]"
   ]
  },
  {
   "cell_type": "code",
   "execution_count": 28,
   "metadata": {},
   "outputs": [
    {
     "name": "stdout",
     "output_type": "stream",
     "text": [
      "CPU times: user 982 µs, sys: 15 µs, total: 997 µs\n",
      "Wall time: 700 µs\n"
     ]
    }
   ],
   "source": [
    "%%time\n",
    "results = [x for x in o.compute(tasks, commit=True)]"
   ]
  },
  {
   "cell_type": "markdown",
   "metadata": {},
   "source": [
    "Notice that this will also insert chemicals in the database:"
   ]
  },
  {
   "cell_type": "code",
   "execution_count": 29,
   "metadata": {},
   "outputs": [
    {
     "data": {
      "text/plain": [
       "['0', '1']"
      ]
     },
     "execution_count": 29,
     "metadata": {},
     "output_type": "execute_result"
    }
   ],
   "source": [
    "o.chemicals"
   ]
  },
  {
   "cell_type": "markdown",
   "metadata": {},
   "source": [
    "You may also use a method to clear the results if you don't need them or if you want to recompute them:"
   ]
  },
  {
   "cell_type": "code",
   "execution_count": 30,
   "metadata": {},
   "outputs": [
    {
     "name": "stdout",
     "output_type": "stream",
     "text": [
      "Help on method drop_results in module rpreactor.rule.burner:\n",
      "\n",
      "drop_results() method of rpreactor.rule.burner.RuleBurner instance\n",
      "    Drop the results table and computed metabolites.\n",
      "\n"
     ]
    }
   ],
   "source": [
    "help(o.drop_results)"
   ]
  },
  {
   "cell_type": "markdown",
   "metadata": {},
   "source": [
    "## Conversions of output format"
   ]
  },
  {
   "cell_type": "code",
   "execution_count": 31,
   "metadata": {},
   "outputs": [],
   "source": [
    "o = rpreactor.RuleBurner(db_path=\"TMP_retrorules.sqlite3\", with_hs=True)"
   ]
  },
  {
   "cell_type": "code",
   "execution_count": 32,
   "metadata": {},
   "outputs": [],
   "source": [
    "rule_list = ['RR-02-0622b5154c1abb9a-02-F', 'RR-02-84cfa33041e82595-02-F', 'RR-02-b93f1788ade7b1a8-02-F']\n",
    "mol_list = ['MNXM102752', 'MNXM8160', 'MNXM2798']\n",
    "\n",
    "tasks = [(rule, mol) for rule in rule_list for mol in mol_list]\n",
    "\n",
    "results = [x for x in o.compute(tasks)]"
   ]
  },
  {
   "cell_type": "markdown",
   "metadata": {},
   "source": [
    "### to JSON"
   ]
  },
  {
   "cell_type": "code",
   "execution_count": 33,
   "metadata": {},
   "outputs": [
    {
     "data": {
      "text/plain": [
       "'[{\"rule_id\": \"RR-02-0622b5154c1abb9a-02-F\", \"substrate_id\": \"MNXM102752\", \"product_inchikeys\": [[\"SZCBXWMUOPQSOX-UHFFFAOYSA-N\"]], \"product_inchis\": [[\"InChI=1S/C40H56O4/c1-29(17-13-19-31(3)21-23-39-35(5,6)25-33(41)27-37(39,9)43-39)15-11-12-16-30(2)18-14-20-32(4)22-24-40-36(7,8)26-34(42)28-38(40,10)44-40/h11-24,33-34,41-42H,25-28H2,1-10H3\"]], \"product_smiles\": [[\"[H]OC1([H])C([H])([H])C2(C([H])([H])[H])OC2(C([H])=C([H])C(=C([H])C([H])=C([H])C(=C([H])C([H])=C([H])C([H])=C(C([H])=C([H])C([H])=C(C([H])=C([H])C23OC2(C([H])([H])[H])C([H])([H])C([H])(O[H])C([H])([H])C3(C([H])([H])[H])C([H])([H])[H])C([H])([H])[H])C([H])([H])[H])C([H])([H])[H])C([H])([H])[H])C(C([H])([H])[H])(C([H])([H])[H])C1([H])[H]\"]]}, {\"rule_id\": \"RR-02-84cfa33041e82595-02-F\", \"substrate_id\": \"MNXM8160\", \"product_inchikeys\": [[\"MYMOFIZGZYHOMD-UHFFFAOYSA-N\"]], \"product_inchis\": [[\"InChI=1S/O2/c1-2\"]], \"product_smiles\": [[\"O=O\"]]}, {\"rule_id\": \"RR-02-b93f1788ade7b1a8-02-F\", \"substrate_id\": \"MNXM2798\", \"product_inchikeys\": [[\"VYKLRWGPNUVKNC-UHFFFAOYSA-N\"]], \"product_inchis\": [[\"InChI=1S/C13H20O3/c1-9(14)5-6-13-11(2,3)7-10(15)8-12(13,4)16-13/h5-6,10,15H,7-8H2,1-4H3\"]], \"product_smiles\": [[\"[H]OC1([H])C([H])([H])C2(C([H])([H])[H])OC2(C([H])=C([H])C(=O)C([H])([H])[H])C(C([H])([H])[H])(C([H])([H])[H])C1([H])[H]\"]]}, {\"rule_id\": \"RR-02-b93f1788ade7b1a8-02-F\", \"substrate_id\": \"MNXM8160\", \"product_inchikeys\": [[\"QGXAEWUQPKUEQA-UHFFFAOYSA-N\", \"HLZZDTVXNYNFKH-UHFFFAOYSA-N\"], [\"GBLMMVFQENXAFZ-UHFFFAOYSA-N\", \"COPQYWVOVBHGRI-UHFFFAOYSA-N\"], [\"VYKLRWGPNUVKNC-UHFFFAOYSA-N\", \"QXJSYJRWEUENRT-UHFFFAOYSA-N\"]], \"product_inchis\": [[\"InChI=1S/C18H26O3/c1-13(7-6-8-14(2)19)9-10-18-16(3,4)11-15(20)12-17(18,5)21-18/h6-10,15,20H,11-12H2,1-5H3\", \"InChI=1S/C9H10O2/c1-9(6-4-8-11)5-2-3-7-10/h2-8H,1H3\"], [\"InChI=1S/C5H6O2/c1-5(7)3-2-4-6/h2-4H,1H3\", \"InChI=1S/C22H30O3/c1-17(9-6-7-14-23)10-8-11-18(2)12-13-22-20(3,4)15-19(24)16-21(22,5)25-22/h6-14,19,24H,15-16H2,1-5H3\"], [\"InChI=1S/C13H20O3/c1-9(14)5-6-13-11(2,3)7-10(15)8-12(13,4)16-13/h5-6,10,15H,7-8H2,1-4H3\", \"InChI=1S/C14H16O2/c1-13(9-5-11-15)7-3-4-8-14(2)10-6-12-16/h3-12H,1-2H3\"]], \"product_smiles\": [[\"[H]OC1([H])C([H])([H])C2(C([H])([H])[H])OC2(C([H])=C([H])C(=C([H])C([H])=C([H])C(=O)C([H])([H])[H])C([H])([H])[H])C(C([H])([H])[H])(C([H])([H])[H])C1([H])[H]\", \"[H]C(=O)C([H])=C([H])C([H])=C(C([H])=C([H])C([H])=O)C([H])([H])[H]\"], [\"[H]C(=O)C([H])=C([H])C(=O)C([H])([H])[H]\", \"[H]OC1([H])C([H])([H])C2(C([H])([H])[H])OC2(C([H])=C([H])C(=C([H])C([H])=C([H])C(=C([H])C([H])=C([H])C([H])=O)C([H])([H])[H])C([H])([H])[H])C(C([H])([H])[H])(C([H])([H])[H])C1([H])[H]\"], [\"[H]OC1([H])C([H])([H])C2(C([H])([H])[H])OC2(C([H])=C([H])C(=O)C([H])([H])[H])C(C([H])([H])[H])(C([H])([H])[H])C1([H])[H]\", \"[H]C(=O)C([H])=C([H])C(=C([H])C([H])=C([H])C([H])=C(C([H])=C([H])C([H])=O)C([H])([H])[H])C([H])([H])[H]\"]]}]'"
      ]
     },
     "execution_count": 33,
     "metadata": {},
     "output_type": "execute_result"
    }
   ],
   "source": [
    "import json\n",
    "\n",
    "# Trim-out the RDKit objects under the \"product_list\" key\n",
    "results_json = [{k:v for k,v in d.items() if k != 'product_list'} for d in results]\n",
    "\n",
    "json.dumps(results_json)"
   ]
  },
  {
   "cell_type": "markdown",
   "metadata": {},
   "source": [
    "### to pandas DataFrame"
   ]
  },
  {
   "cell_type": "code",
   "execution_count": 34,
   "metadata": {},
   "outputs": [
    {
     "data": {
      "text/html": [
       "<div>\n",
       "<style scoped>\n",
       "    .dataframe tbody tr th:only-of-type {\n",
       "        vertical-align: middle;\n",
       "    }\n",
       "\n",
       "    .dataframe tbody tr th {\n",
       "        vertical-align: top;\n",
       "    }\n",
       "\n",
       "    .dataframe thead th {\n",
       "        text-align: right;\n",
       "    }\n",
       "</style>\n",
       "<table border=\"1\" class=\"dataframe\">\n",
       "  <thead>\n",
       "    <tr style=\"text-align: right;\">\n",
       "      <th></th>\n",
       "      <th>rule_id</th>\n",
       "      <th>substrate_id</th>\n",
       "      <th>product_list</th>\n",
       "      <th>product_inchikeys</th>\n",
       "      <th>product_inchis</th>\n",
       "      <th>product_smiles</th>\n",
       "    </tr>\n",
       "  </thead>\n",
       "  <tbody>\n",
       "    <tr>\n",
       "      <th>0</th>\n",
       "      <td>RR-02-0622b5154c1abb9a-02-F</td>\n",
       "      <td>MNXM102752</td>\n",
       "      <td>[[&lt;rdkit.Chem.rdchem.Mol object at 0x7ff35b71a...</td>\n",
       "      <td>[[SZCBXWMUOPQSOX-UHFFFAOYSA-N]]</td>\n",
       "      <td>[[InChI=1S/C40H56O4/c1-29(17-13-19-31(3)21-23-...</td>\n",
       "      <td>[[[H]OC1([H])C([H])([H])C2(C([H])([H])[H])OC2(...</td>\n",
       "    </tr>\n",
       "    <tr>\n",
       "      <th>1</th>\n",
       "      <td>RR-02-84cfa33041e82595-02-F</td>\n",
       "      <td>MNXM8160</td>\n",
       "      <td>[[&lt;rdkit.Chem.rdchem.Mol object at 0x7ff362ca8...</td>\n",
       "      <td>[[MYMOFIZGZYHOMD-UHFFFAOYSA-N]]</td>\n",
       "      <td>[[InChI=1S/O2/c1-2]]</td>\n",
       "      <td>[[O=O]]</td>\n",
       "    </tr>\n",
       "    <tr>\n",
       "      <th>2</th>\n",
       "      <td>RR-02-b93f1788ade7b1a8-02-F</td>\n",
       "      <td>MNXM2798</td>\n",
       "      <td>[[&lt;rdkit.Chem.rdchem.Mol object at 0x7ff362ca8...</td>\n",
       "      <td>[[VYKLRWGPNUVKNC-UHFFFAOYSA-N]]</td>\n",
       "      <td>[[InChI=1S/C13H20O3/c1-9(14)5-6-13-11(2,3)7-10...</td>\n",
       "      <td>[[[H]OC1([H])C([H])([H])C2(C([H])([H])[H])OC2(...</td>\n",
       "    </tr>\n",
       "    <tr>\n",
       "      <th>3</th>\n",
       "      <td>RR-02-b93f1788ade7b1a8-02-F</td>\n",
       "      <td>MNXM8160</td>\n",
       "      <td>[[&lt;rdkit.Chem.rdchem.Mol object at 0x7ff355e8d...</td>\n",
       "      <td>[[QGXAEWUQPKUEQA-UHFFFAOYSA-N, HLZZDTVXNYNFKH-...</td>\n",
       "      <td>[[InChI=1S/C18H26O3/c1-13(7-6-8-14(2)19)9-10-1...</td>\n",
       "      <td>[[[H]OC1([H])C([H])([H])C2(C([H])([H])[H])OC2(...</td>\n",
       "    </tr>\n",
       "  </tbody>\n",
       "</table>\n",
       "</div>"
      ],
      "text/plain": [
       "                       rule_id substrate_id  \\\n",
       "0  RR-02-0622b5154c1abb9a-02-F   MNXM102752   \n",
       "1  RR-02-84cfa33041e82595-02-F     MNXM8160   \n",
       "2  RR-02-b93f1788ade7b1a8-02-F     MNXM2798   \n",
       "3  RR-02-b93f1788ade7b1a8-02-F     MNXM8160   \n",
       "\n",
       "                                        product_list  \\\n",
       "0  [[<rdkit.Chem.rdchem.Mol object at 0x7ff35b71a...   \n",
       "1  [[<rdkit.Chem.rdchem.Mol object at 0x7ff362ca8...   \n",
       "2  [[<rdkit.Chem.rdchem.Mol object at 0x7ff362ca8...   \n",
       "3  [[<rdkit.Chem.rdchem.Mol object at 0x7ff355e8d...   \n",
       "\n",
       "                                   product_inchikeys  \\\n",
       "0                    [[SZCBXWMUOPQSOX-UHFFFAOYSA-N]]   \n",
       "1                    [[MYMOFIZGZYHOMD-UHFFFAOYSA-N]]   \n",
       "2                    [[VYKLRWGPNUVKNC-UHFFFAOYSA-N]]   \n",
       "3  [[QGXAEWUQPKUEQA-UHFFFAOYSA-N, HLZZDTVXNYNFKH-...   \n",
       "\n",
       "                                      product_inchis  \\\n",
       "0  [[InChI=1S/C40H56O4/c1-29(17-13-19-31(3)21-23-...   \n",
       "1                               [[InChI=1S/O2/c1-2]]   \n",
       "2  [[InChI=1S/C13H20O3/c1-9(14)5-6-13-11(2,3)7-10...   \n",
       "3  [[InChI=1S/C18H26O3/c1-13(7-6-8-14(2)19)9-10-1...   \n",
       "\n",
       "                                      product_smiles  \n",
       "0  [[[H]OC1([H])C([H])([H])C2(C([H])([H])[H])OC2(...  \n",
       "1                                            [[O=O]]  \n",
       "2  [[[H]OC1([H])C([H])([H])C2(C([H])([H])[H])OC2(...  \n",
       "3  [[[H]OC1([H])C([H])([H])C2(C([H])([H])[H])OC2(...  "
      ]
     },
     "execution_count": 34,
     "metadata": {},
     "output_type": "execute_result"
    }
   ],
   "source": [
    "import pandas as pd\n",
    "\n",
    "df = pd.DataFrame.from_dict(results)\n",
    "df"
   ]
  },
  {
   "cell_type": "code",
   "execution_count": 35,
   "metadata": {},
   "outputs": [
    {
     "data": {
      "text/plain": [
       "0    [[SZCBXWMUOPQSOX-UHFFFAOYSA-N]]\n",
       "Name: product_inchikeys, dtype: object"
      ]
     },
     "execution_count": 35,
     "metadata": {},
     "output_type": "execute_result"
    }
   ],
   "source": [
    "tmp = df.loc[(df.rule_id=='RR-02-0622b5154c1abb9a-02-F') & (df.substrate_id=='MNXM102752'), 'product_inchikeys']\n",
    "tmp"
   ]
  },
  {
   "cell_type": "code",
   "execution_count": 36,
   "metadata": {},
   "outputs": [
    {
     "data": {
      "text/plain": [
       "[['SZCBXWMUOPQSOX-UHFFFAOYSA-N']]"
      ]
     },
     "execution_count": 36,
     "metadata": {},
     "output_type": "execute_result"
    }
   ],
   "source": [
    "tmp[0]"
   ]
  },
  {
   "cell_type": "code",
   "execution_count": 37,
   "metadata": {},
   "outputs": [
    {
     "data": {
      "text/plain": [
       "['SZCBXWMUOPQSOX-UHFFFAOYSA-N']"
      ]
     },
     "execution_count": 37,
     "metadata": {},
     "output_type": "execute_result"
    }
   ],
   "source": [
    "tmp[0][0]"
   ]
  },
  {
   "cell_type": "code",
   "execution_count": 38,
   "metadata": {},
   "outputs": [
    {
     "data": {
      "text/plain": [
       "'SZCBXWMUOPQSOX-UHFFFAOYSA-N'"
      ]
     },
     "execution_count": 38,
     "metadata": {},
     "output_type": "execute_result"
    }
   ],
   "source": [
    "tmp[0][0][0]"
   ]
  }
 ],
 "metadata": {
  "celltoolbar": "Edit Metadata",
  "kernelspec": {
   "display_name": "Python 3",
   "language": "python",
   "name": "python3"
  },
  "language_info": {
   "codemirror_mode": {
    "name": "ipython",
    "version": 3
   },
   "file_extension": ".py",
   "mimetype": "text/x-python",
   "name": "python",
   "nbconvert_exporter": "python",
   "pygments_lexer": "ipython3",
   "version": "3.8.8"
  }
 },
 "nbformat": 4,
 "nbformat_minor": 4
}
